{
 "cells": [
  {
   "cell_type": "markdown",
   "id": "76881e8d",
   "metadata": {},
   "source": [
    "# AD&D Churn Analysis And Modeling\n",
    "\n",
    "To:&emsp;&emsp;&emsp;[Magnimind](https://magnimindacademy.com/)\n",
    "\n",
    "From:&emsp;&nbsp;&nbsp;&nbsp;Matt Curcio, matt.curcio.ri@gmail.com\n",
    "\n",
    "Date:&emsp;&emsp;2022-12-27\n",
    "\n",
    "Re:&emsp;&emsp;&ensp;&nbsp;A short description & review of Pandas Profiling"
   ]
  },
  {
   "attachments": {},
   "cell_type": "markdown",
   "id": "3bacba00",
   "metadata": {},
   "source": [
    "## Testing Pandas Profiling Library For E.D.A.\n",
    "\n",
    "### Executive Summary\n",
    "\n",
    "- This Ipython notebook contains a short description and review of the library, [Pandas Profiling](https://ydata-profiling.ydata.ai/docs/master/index.html). \n",
    "\n",
    "**Benefits**\n",
    "\n",
    "1. A consistent and comprehensive EDA can be completed with one command:\n",
    "- `profile = ProfileReport(df, title=\"Pandas Profiling Report\")`   \n",
    "\n",
    "2. Reports can be embedded in .ipynb or saved to .html formats\n",
    "\n",
    "3. Reports can be tailored via \n",
    "\n",
    "\n",
    "**Purpose**\n",
    "\n",
    "**Conclusions**\n"
   ]
  },
  {
   "cell_type": "code",
   "execution_count": 1,
   "id": "c9c9129c",
   "metadata": {},
   "outputs": [
    {
     "ename": "ModuleNotFoundError",
     "evalue": "No module named 'ydata_profiling'",
     "output_type": "error",
     "traceback": [
      "\u001b[0;31m---------------------------------------------------------------------------\u001b[0m",
      "\u001b[0;31mModuleNotFoundError\u001b[0m                       Traceback (most recent call last)",
      "Cell \u001b[0;32mIn[1], line 6\u001b[0m\n\u001b[1;32m      2\u001b[0m \u001b[38;5;28;01mimport\u001b[39;00m \u001b[38;5;21;01mpandas\u001b[39;00m \u001b[38;5;28;01mas\u001b[39;00m \u001b[38;5;21;01mpd\u001b[39;00m\n\u001b[1;32m      4\u001b[0m \u001b[38;5;66;03m# conda install -c conda-forge ydata-profiling\u001b[39;00m\n\u001b[1;32m      5\u001b[0m \u001b[38;5;66;03m# pip install -U ydata-profiling[notebook]\u001b[39;00m\n\u001b[0;32m----> 6\u001b[0m \u001b[38;5;28;01mfrom\u001b[39;00m \u001b[38;5;21;01mydata_profiling\u001b[39;00m \u001b[38;5;28;01mimport\u001b[39;00m ProfileReport\n\u001b[1;32m      8\u001b[0m \u001b[38;5;66;03m# test on raw dataset \"churn.all2\"\u001b[39;00m\n\u001b[1;32m      9\u001b[0m df \u001b[38;5;241m=\u001b[39m pd\u001b[38;5;241m.\u001b[39mread_csv(\u001b[38;5;124m'\u001b[39m\u001b[38;5;124m../data/raw/churn.all2\u001b[39m\u001b[38;5;124m'\u001b[39m)\n",
      "\u001b[0;31mModuleNotFoundError\u001b[0m: No module named 'ydata_profiling'"
     ]
    }
   ],
   "source": [
    "import numpy as np \n",
    "import pandas as pd\n",
    "\n",
    "# conda install -c conda-forge ydata-profiling\n",
    "# pip install -U ydata-profiling[notebook]\n",
    "from ydata_profiling import ProfileReport\n",
    "\n",
    "# test on raw dataset \"churn.all2\"\n",
    "df = pd.read_csv('../data/raw/churn.all2')\n",
    "\n",
    "churn_report = ProfileReport(df, config_file='config_minimal.yaml')\n",
    "\n",
    "churn_report.to_file('churn_report')"
   ]
  },
  {
   "cell_type": "code",
   "execution_count": 2,
   "id": "03fc676e",
   "metadata": {},
   "outputs": [
    {
     "name": "stdout",
     "output_type": "stream",
     "text": [
      "<class 'pandas.core.frame.DataFrame'>\n",
      "RangeIndex: 5000 entries, 0 to 4999\n",
      "Data columns (total 21 columns):\n",
      " #   Column                         Non-Null Count  Dtype  \n",
      "---  ------                         --------------  -----  \n",
      " 0   state                          5000 non-null   object \n",
      " 1   account_length                 5000 non-null   int64  \n",
      " 2   area_code                      5000 non-null   int64  \n",
      " 3   phone_number                   5000 non-null   object \n",
      " 4   intl_plan                      5000 non-null   object \n",
      " 5   voice_mail_plan                5000 non-null   object \n",
      " 6   number_vmail_messages          5000 non-null   int64  \n",
      " 7   total_day_minutes              5000 non-null   float64\n",
      " 8   total_day_calls                5000 non-null   int64  \n",
      " 9   total_day_charge               5000 non-null   float64\n",
      " 10  total_eve_minutes              5000 non-null   float64\n",
      " 11  total_eve_calls                5000 non-null   int64  \n",
      " 12  total_eve_charge               5000 non-null   object \n",
      " 13  total_night_minutes            5000 non-null   float64\n",
      " 14  total_night_calls              5000 non-null   int64  \n",
      " 15  total_night_charge             5000 non-null   float64\n",
      " 16  total_intl_minutes             5000 non-null   float64\n",
      " 17  total_intl_calls               5000 non-null   int64  \n",
      " 18  total_intl_charge              4999 non-null   float64\n",
      " 19  number_customer_service_calls  5000 non-null   int64  \n",
      " 20  churned                        5000 non-null   object \n",
      "dtypes: float64(7), int64(8), object(6)\n",
      "memory usage: 820.4+ KB\n"
     ]
    }
   ],
   "source": [
    "df.info()"
   ]
  },
  {
   "cell_type": "code",
   "execution_count": null,
   "id": "5cb1fc1b",
   "metadata": {},
   "outputs": [],
   "source": []
  }
 ],
 "metadata": {
  "kernelspec": {
   "display_name": "Python 3 (ipykernel)",
   "language": "python",
   "name": "python3"
  },
  "language_info": {
   "codemirror_mode": {
    "name": "ipython",
    "version": 3
   },
   "file_extension": ".py",
   "mimetype": "text/x-python",
   "name": "python",
   "nbconvert_exporter": "python",
   "pygments_lexer": "ipython3",
   "version": "3.9.16"
  },
  "toc": {
   "base_numbering": 1,
   "nav_menu": {},
   "number_sections": true,
   "sideBar": true,
   "skip_h1_title": true,
   "title_cell": "Table of Contents",
   "title_sidebar": "Contents",
   "toc_cell": true,
   "toc_position": {},
   "toc_section_display": true,
   "toc_window_display": false
  },
  "varInspector": {
   "cols": {
    "lenName": 16,
    "lenType": 16,
    "lenVar": 40
   },
   "kernels_config": {
    "python": {
     "delete_cmd_postfix": "",
     "delete_cmd_prefix": "del ",
     "library": "var_list.py",
     "varRefreshCmd": "print(var_dic_list())"
    },
    "r": {
     "delete_cmd_postfix": ") ",
     "delete_cmd_prefix": "rm(",
     "library": "var_list.r",
     "varRefreshCmd": "cat(var_dic_list()) "
    }
   },
   "types_to_exclude": [
    "module",
    "function",
    "builtin_function_or_method",
    "instance",
    "_Feature"
   ],
   "window_display": false
  }
 },
 "nbformat": 4,
 "nbformat_minor": 5
}
